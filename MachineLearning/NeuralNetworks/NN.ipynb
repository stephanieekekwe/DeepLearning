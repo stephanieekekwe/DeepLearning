{
 "cells": [
  {
   "cell_type": "code",
   "execution_count": 2,
   "metadata": {
    "collapsed": true
   },
   "outputs": [],
   "source": [
    "import  numpy as np\n",
    "import scipy.io \n",
    "import numpy as np\n",
    "import matplotlib.pylab as  plt \n",
    "import matplotlib.image as  imp\n",
    "from scipy.special import expit\n",
    "\n"
   ]
  },
  {
   "cell_type": "code",
   "execution_count": null,
   "metadata": {
    "collapsed": true
   },
   "outputs": [],
   "source": []
  },
  {
   "cell_type": "code",
   "execution_count": 13,
   "metadata": {},
   "outputs": [
    {
     "name": "stdout",
     "output_type": "stream",
     "text": [
      "[-0.02256239 -0.09838113  0.11615605 ..., -2.11014003 -2.1319153\n",
      " -1.32752042]\n",
      "(25, 401)\n"
     ]
    }
   ],
   "source": [
    "mat = scipy.io.loadmat('ex4data1.mat')\n",
    "X=np.array(mat['X'])\n",
    "Y=np.array(mat['y']).reshape((5000,))\n",
    "X_m,X_n=X.shape\n",
    "Y_m=Y.shape\n",
    "theta= scipy.io.loadmat('ex4weights.mat')\n",
    "theta1=np.array(theta['Theta1'])\n",
    "theta2=np.array(theta['Theta2'])\n",
    "n,m=theta1.shape\n",
    "theta1_to_vect=np.ndarray.flatten(theta1.T)\n",
    "\n",
    "\n",
    "theta2_to_vect=np.ndarray.flatten(theta2.T)\n",
    "\n",
    "nn_params=np.hstack((theta1_to_vect,theta2_to_vect))\n",
    "print(nn_params)\n",
    "Y=np.where(Y==10,0,Y)\n",
    "print(theta1.shape)"
   ]
  },
  {
   "cell_type": "code",
   "execution_count": 4,
   "metadata": {
    "collapsed": true
   },
   "outputs": [],
   "source": [
    "def theta_to_vect(theta1,theta2):\n",
    "    theta2_to_vect=np.ndarray.flatten(theta2)\n",
    "    theta1_to_vect=np.ndarray.flatten(theta1)\n",
    "    nn_params=np.append(theta1_to_vect,theta2_to_vect)\n",
    "    return theta2_to_vect ,theta1_to_vect,nn_params"
   ]
  },
  {
   "cell_type": "code",
   "execution_count": 5,
   "metadata": {
    "collapsed": true
   },
   "outputs": [],
   "source": [
    "def sigmoid(z):\n",
    "    \n",
    "    g=np.zeros((z.shape))\n",
    "    dim=1+np.exp(-1*z)\n",
    "    g=1/dim\n",
    "    return g"
   ]
  },
  {
   "cell_type": "code",
   "execution_count": 6,
   "metadata": {},
   "outputs": [
    {
     "data": {
      "text/plain": [
       "(10285,)"
      ]
     },
     "execution_count": 6,
     "metadata": {},
     "output_type": "execute_result"
    }
   ],
   "source": [
    "theta_to_vect(theta1,theta2)[2].shape"
   ]
  },
  {
   "cell_type": "code",
   "execution_count": 7,
   "metadata": {
    "collapsed": true
   },
   "outputs": [],
   "source": [
    "lam = 0 \n",
    "input_layer_size  = 400;  \n",
    "hidden_layer_size = 25;  \n",
    "num_labels = 10;  "
   ]
  },
  {
   "cell_type": "markdown",
   "metadata": {},
   "source": [
    "## Feedforward Using Neural Network"
   ]
  },
  {
   "cell_type": "code",
   "execution_count": 8,
   "metadata": {},
   "outputs": [
    {
     "name": "stdout",
     "output_type": "stream",
     "text": [
      "[[1 0 0 ..., 0 0 0]\n",
      " [1 0 0 ..., 0 0 0]\n",
      " [1 0 0 ..., 0 0 0]\n",
      " ..., \n",
      " [0 0 0 ..., 0 0 1]\n",
      " [0 0 0 ..., 0 0 1]\n",
      " [0 0 0 ..., 0 0 1]]\n",
      "med:(5000, 10)\n"
     ]
    }
   ],
   "source": [
    "a=np.arange(0,num_labels)\n",
    "v_tile=np.tile(a,[X_m,1])\n",
    "y_tile=np.tile(Y,[num_labels,1]).transpose()\n",
    "q=np.where(v_tile==y_tile,1,0)\n",
    "print(q)\n",
    "def p(x,s):\n",
    "    print(s+':',end=\"\")\n",
    "    print(x.shape)\n",
    "p(q,\"med\")"
   ]
  },
  {
   "cell_type": "code",
   "execution_count": 9,
   "metadata": {
    "collapsed": true
   },
   "outputs": [],
   "source": [
    "def sigmoidGradient(z):\n",
    "    sig = sigmoid(z)\n",
    "    si_gr=sig*(1-sig)\n",
    "    return si_gr "
   ]
  },
  {
   "cell_type": "code",
   "execution_count": 10,
   "metadata": {
    "collapsed": true
   },
   "outputs": [],
   "source": [
    "def nnCostFunction (nn_params,input_layer_size,hidden_layer_size,num_labels,X,Y,lam):\n",
    "    \n",
    "    m=len(nn_params)\n",
    "    Theat1_vect=nn_params[0:hidden_layer_size * (input_layer_size + 1)]\n",
    "    Theat2_vect=nn_params[hidden_layer_size * (input_layer_size + 1): m ]\n",
    "\n",
    "    Theat1=Theat1_vect.reshape(hidden_layer_size,(input_layer_size+1))\n",
    "    Theat2=Theat2_vect.reshape(num_labels,hidden_layer_size+1)\n",
    "   \n",
    "    J = 0;\n",
    "    grad=0\n",
    "    #to creat  multi classa  clsification \n",
    "    a=np.arange(0,num_labels)\n",
    "    v_tile=np.tile(a,[X_m,1])\n",
    "    y_tile=np.tile(Y,[num_labels,1]).transpose()\n",
    "    #our output are row of y1,[000000100]  so we  creat   Martix \n",
    "    #of  output [y1\n",
    "            #     .\n",
    "            #     .\n",
    "            #     y5000]\n",
    "    yVectorT=np.where(v_tile==y_tile,1,0)\n",
    "    \n",
    "    ones=np.ones((X_m,1))\n",
    "    #forward prpogation \n",
    "    a1=np.append(ones,X,axis=1)\n",
    "    z2=a1.dot(Theat1.transpose())\n",
    "    a2=np.append(ones,sigmoid(z2),axis=1)\n",
    "    z3=a2.dot(Theat2.T)\n",
    "    a3=sigmoid(z3)\n",
    "    cost=-yVectorT*np.log(a3)-(1-yVectorT)*np.log(1-a3)\n",
    "    \n",
    "    Theta1NoBias = np.square(Theat1[:, 1:Theat1.shape[1]])\n",
    "    Theta2NoBias = np.square(Theat2[:, 1:Theat2.shape[1]])\n",
    "    print(cost.sum())\n",
    "    J=(1/5000)*cost.sum()+(lam/2*X_m)*(Theta1NoBias.sum()+Theta2NoBias.sum())\n",
    "    delta1 = np.zeros((Theat1.shape));\n",
    "    delta2 = np.zeros((Theat2.shape));\n",
    "    for xi in range(0,X_m):\n",
    "        a1_xi=a1[[xi,],:]\n",
    "       \n",
    "        a2_xi=a2[[xi,],:]\n",
    "        a3_xi=a3[[xi,],:]\n",
    "        yVector_xi=yVectorT[[xi,],:]\n",
    "        d3_xi=a3_xi-yVector_xi\n",
    "        z2_xi=np.hstack(([[1]],z2[[xi,],:]))\n",
    "       \n",
    "        d2_xi=np.dot(Theat2.T,d3_xi.T)*sigmoidGradient(z2_xi).T\n",
    "     \n",
    "        delta1 = delta1+np.dot(d2_xi[1:len(d2_xi)],a1_xi)\n",
    "        delta2=delta2+np.transpose(d3_xi).dot(a2_xi)\n",
    "    Theta1ZeroBias =np.append(np.zeros((Theta1NoBias.shape[0],1))\n",
    "                             ,Theta1NoBias\n",
    "                              ,axis=1)\n",
    "    Theta2ZeroBias =np.append(np.zeros((Theta2NoBias.shape[0],1))\n",
    "                             ,Theta2NoBias\n",
    "                             ,axis=1)\n",
    "  \n",
    "    print(len(Theat1))\n",
    "    Theta1_grad = (1 / m) * delta1 + (lam / m) * Theta1ZeroBias;\n",
    "    Theta2_grad = (1 / m) * delta2 + (lam / m) * Theta2ZeroBias;              \n",
    "    \n",
    "    grad=np.append(np.ndarray.flatten(Theta1_grad),\n",
    "                   np.ndarray.flatten(Theta2_grad))\n",
    "    \n",
    "    \n",
    "    return J ,grad\n",
    "\n",
    "    \n",
    "    \n",
    "    \n",
    "    \n",
    "    \n"
   ]
  },
  {
   "cell_type": "code",
   "execution_count": 11,
   "metadata": {},
   "outputs": [
    {
     "name": "stdout",
     "output_type": "stream",
     "text": [
      "27713.9989613\n",
      "25\n",
      "5.54279979226\n"
     ]
    }
   ],
   "source": [
    "J,grad=nnCostFunction (nn_params,input_layer_size,hidden_layer_size,num_labels,X,Y,0)\n",
    "print(J)"
   ]
  },
  {
   "cell_type": "code",
   "execution_count": 12,
   "metadata": {},
   "outputs": [
    {
     "ename": "NameError",
     "evalue": "name 'yVectorT' is not defined",
     "output_type": "error",
     "traceback": [
      "\u001b[0;31m---------------------------------------------------------------------------\u001b[0m",
      "\u001b[0;31mNameError\u001b[0m                                 Traceback (most recent call last)",
      "\u001b[0;32m<ipython-input-12-b6ca99859355>\u001b[0m in \u001b[0;36m<module>\u001b[0;34m()\u001b[0m\n\u001b[1;32m      1\u001b[0m \u001b[0;34m\u001b[0m\u001b[0m\n\u001b[0;32m----> 2\u001b[0;31m \u001b[0mnp\u001b[0m\u001b[0;34m.\u001b[0m\u001b[0mappend\u001b[0m\u001b[0;34m(\u001b[0m\u001b[0;36m1\u001b[0m\u001b[0;34m,\u001b[0m\u001b[0myVectorT\u001b[0m\u001b[0;34m)\u001b[0m\u001b[0;34m\u001b[0m\u001b[0m\n\u001b[0m\u001b[1;32m      3\u001b[0m \u001b[0mnp\u001b[0m\u001b[0;34m.\u001b[0m\u001b[0msquare\u001b[0m\u001b[0;34m(\u001b[0m\u001b[0;36m2\u001b[0m\u001b[0;34m)\u001b[0m\u001b[0;34m\u001b[0m\u001b[0m\n\u001b[1;32m      4\u001b[0m \u001b[0mg\u001b[0m \u001b[0;34m=\u001b[0m \u001b[0msigmoidGradient\u001b[0m\u001b[0;34m(\u001b[0m\u001b[0mnp\u001b[0m\u001b[0;34m.\u001b[0m\u001b[0marray\u001b[0m\u001b[0;34m(\u001b[0m\u001b[0;34m[\u001b[0m\u001b[0;36m1\u001b[0m \u001b[0;34m,\u001b[0m\u001b[0;34m-\u001b[0m\u001b[0;36m0.5\u001b[0m\u001b[0;34m,\u001b[0m \u001b[0;36m0\u001b[0m\u001b[0;34m,\u001b[0m \u001b[0;36m0.5\u001b[0m\u001b[0;34m,\u001b[0m \u001b[0;36m1\u001b[0m\u001b[0;34m]\u001b[0m\u001b[0;34m)\u001b[0m\u001b[0;34m)\u001b[0m\u001b[0;34m\u001b[0m\u001b[0m\n\u001b[1;32m      5\u001b[0m \u001b[0mprint\u001b[0m\u001b[0;34m(\u001b[0m\u001b[0mg\u001b[0m\u001b[0;34m)\u001b[0m\u001b[0;34m\u001b[0m\u001b[0m\n",
      "\u001b[0;31mNameError\u001b[0m: name 'yVectorT' is not defined"
     ]
    }
   ],
   "source": [
    "np.append(1,yVectorT)\n",
    "np.square(2)\n",
    "g = sigmoidGradient(np.array([1 ,-0.5, 0, 0.5, 1]))\n",
    "print(g)"
   ]
  }
 ],
 "metadata": {
  "kernelspec": {
   "display_name": "Python 3",
   "language": "python",
   "name": "python3"
  },
  "language_info": {
   "codemirror_mode": {
    "name": "ipython",
    "version": 3
   },
   "file_extension": ".py",
   "mimetype": "text/x-python",
   "name": "python",
   "nbconvert_exporter": "python",
   "pygments_lexer": "ipython3",
   "version": "3.5.2"
  }
 },
 "nbformat": 4,
 "nbformat_minor": 2
}
