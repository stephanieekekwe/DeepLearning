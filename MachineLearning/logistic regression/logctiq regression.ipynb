{
 "cells": [
  {
   "cell_type": "code",
   "execution_count": 3,
   "metadata": {
    "collapsed": true
   },
   "outputs": [],
   "source": [
    "import matplotlib.pylab as plt\n",
    "import numpy as np\n",
    "import pandas as  pd "
   ]
  },
  {
   "cell_type": "code",
   "execution_count": 4,
   "metadata": {
    "collapsed": true
   },
   "outputs": [],
   "source": [
    "def loaddata():\n",
    "    dataFrame= pd.read_csv(\"ex2data1.txt\",header=None)\n",
    "    x=dataFrame.iloc[:,[0,1]]\n",
    "    x=np.array(x)\n",
    "    y=np.array(dataFrame[[2]])\n",
    "    return x,y\n",
    " "
   ]
  },
  {
   "cell_type": "code",
   "execution_count": 5,
   "metadata": {
    "collapsed": true
   },
   "outputs": [],
   "source": [
    "def plotData(x,y):\n",
    "    pos = np.where(y==1)\n",
    "    pos=np.array(pos)\n",
    "    pos_1=pos[[0],:]\n",
    "    pos_0=np.where(y==0)\n",
    "    pos_0=np.array(pos_0)\n",
    "    pos_0=pos_0[[0],:]\n",
    "    fig=plt.figure('plot')\n",
    "    ax=fig.add_subplot(1,1,1)\n",
    "    \n",
    "    ax.set_xlabel(\"Exam 1 score\")\n",
    "    ax.set_ylabel(\"Exam 2 score\")\n",
    "    ax.set_title(\"MScore\")\n",
    "    print(x[pos_1,0].shape)\n",
    "    ax.scatter(x[pos_1,0],x[pos_1,1], color='r',marker='*')\n",
    "    ax.scatter(x[pos_0,0],x[pos_0,1], color='g',marker='+')\n",
    "    plt.show()\n",
    "    \n",
    "    \n",
    "    \n",
    "   "
   ]
  },
  {
   "cell_type": "code",
   "execution_count": 6,
   "metadata": {},
   "outputs": [
    {
     "name": "stdout",
     "output_type": "stream",
     "text": [
      "(1, 60)\n"
     ]
    },
    {
     "data": {
      "image/png": "[encoded data removed]",
      "text/plain": [
       "<matplotlib.figure.Figure at 0x7fa78eff54e0>"
      ]
     },
     "metadata": {},
     "output_type": "display_data"
    }
   ],
   "source": [
    "x,y=loaddata()\n",
    "plotData(x,y)\n",
    "\n"
   ]
  },
  {
   "cell_type": "code",
   "execution_count": 292,
   "metadata": {},
   "outputs": [
    {
     "name": "stdout",
     "output_type": "stream",
     "text": [
      "(3, 1)\n"
     ]
    }
   ],
   "source": [
    "(m,n)=x.shape\n",
    "X=np.column_stack([np.ones(m),x])\n",
    "theta=np.zeros((n+1,1))\n",
    "print(theta.shape)\n"
   ]
  },
  {
   "cell_type": "code",
   "execution_count": 379,
   "metadata": {
    "collapsed": true
   },
   "outputs": [],
   "source": [
    "def sigmoid(z):\n",
    "    z=np.array(z)\n",
    "    print(z)\n",
    "    g=np.zeros((z.shape))\n",
    "    dim=1+np.exp(-1*z)\n",
    "    \n",
    "    g=1/dim\n",
    "    return g.transpose() \n"
   ]
  },
  {
   "cell_type": "code",
   "execution_count": 342,
   "metadata": {
    "collapsed": true
   },
   "outputs": [],
   "source": [
    "def costJ(theta,X,y):\n",
    "    h=sigmoid(X.dot(theta))\n",
    "    temp1=-(1-y)*np.log(1-h)\n",
    "    temp2=-y*np.log(h)\n",
    "    j=((temp1+temp2).sum())/m\n",
    "    return j \n",
    "\n"
   ]
  },
  {
   "cell_type": "code",
   "execution_count": 1,
   "metadata": {
    "collapsed": true
   },
   "outputs": [],
   "source": [
    "def gradient(theta,X,y):\n",
    "    h=sigmoid(np.dot(X,theta))\n",
    "    temp1=-(1-y)*np.log(1-h)\n",
    "    temp2=-y*np.log(h)\n",
    "    j=((temp1+temp2).sum())/m\n",
    "    grad=(np.dot(np.transpose(X),(h-y)))*(1/m)\n",
    "    \n",
    "    return  np.ndarray.flatten(grad)\n",
    "\n",
    "\n"
   ]
  },
  {
   "cell_type": "code",
   "execution_count": null,
   "metadata": {
    "collapsed": true
   },
   "outputs": [],
   "source": []
  },
  {
   "cell_type": "code",
   "execution_count": 7,
   "metadata": {},
   "outputs": [
    {
     "ename": "NameError",
     "evalue": "name 'costJ' is not defined",
     "output_type": "error",
     "traceback": [
      "\u001b[0;31m---------------------------------------------------------------------------\u001b[0m",
      "\u001b[0;31mNameError\u001b[0m                                 Traceback (most recent call last)",
      "\u001b[0;32m<ipython-input-7-73184c4b0ec6>\u001b[0m in \u001b[0;36m<module>\u001b[0;34m()\u001b[0m\n\u001b[1;32m      2\u001b[0m \u001b[0;34m\u001b[0m\u001b[0m\n\u001b[1;32m      3\u001b[0m Result = scopt.fmin_bfgs(\n\u001b[0;32m----> 4\u001b[0;31m \u001b[0mcostJ\u001b[0m\u001b[0;34m,\u001b[0m\u001b[0;34m\u001b[0m\u001b[0m\n\u001b[0m\u001b[1;32m      5\u001b[0m \u001b[0mx0\u001b[0m \u001b[0;34m=\u001b[0m \u001b[0mtheta\u001b[0m\u001b[0;34m,\u001b[0m\u001b[0;34m\u001b[0m\u001b[0m\n\u001b[1;32m      6\u001b[0m \u001b[0margs\u001b[0m \u001b[0;34m=\u001b[0m \u001b[0;34m(\u001b[0m\u001b[0mX\u001b[0m\u001b[0;34m,\u001b[0m\u001b[0my\u001b[0m\u001b[0;34m)\u001b[0m\u001b[0;34m,\u001b[0m\u001b[0;34m\u001b[0m\u001b[0m\n",
      "\u001b[0;31mNameError\u001b[0m: name 'costJ' is not defined"
     ]
    }
   ],
   "source": [
    "import scipy.optimize as scopt\n",
    "\n",
    "Result = scopt.fmin_bfgs(\n",
    "costJ,\n",
    "x0 = theta,\n",
    "args = (X,y),\n",
    "maxiter = 400,\n",
    "fprime = gradient)"
   ]
  },
  {
   "cell_type": "code",
   "execution_count": 386,
   "metadata": {},
   "outputs": [
    {
     "name": "stdout",
     "output_type": "stream",
     "text": [
      "<class 'numpy.ndarray'>\n"
     ]
    }
   ],
   "source": [
    "print(type(Result))\n"
   ]
  },
  {
   "cell_type": "code",
   "execution_count": null,
   "metadata": {
    "collapsed": true
   },
   "outputs": [],
   "source": []
  }
 ],
 "metadata": {
  "kernelspec": {
   "display_name": "Python 3",
   "language": "python",
   "name": "python3"
  },
  "language_info": {
   "codemirror_mode": {
    "name": "ipython",
    "version": 3
   },
   "file_extension": ".py",
   "mimetype": "text/x-python",
   "name": "python",
   "nbconvert_exporter": "python",
   "pygments_lexer": "ipython3",
   "version": "3.5.2"
  }
 },
 "nbformat": 4,
 "nbformat_minor": 2
}
