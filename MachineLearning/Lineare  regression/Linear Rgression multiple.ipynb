{
 "cells": [
  {
   "cell_type": "code",
   "execution_count": 288,
   "metadata": {
    "collapsed": true
   },
   "outputs": [],
   "source": [
    "import numpy as np \n",
    "import pandas as  pd \n",
    "import matplotlib.pylab  as plt"
   ]
  },
  {
   "cell_type": "markdown",
   "metadata": {},
   "source": [
    "#### Load data"
   ]
  },
  {
   "cell_type": "code",
   "execution_count": 260,
   "metadata": {},
   "outputs": [],
   "source": [
    "dataFrame=pd.read_csv('ex1data2.csv',header=None )\n",
    "x= dataFrame.iloc[:,[0,1]]\n",
    "x=np.array(x)\n",
    "y=np.array(dataFrame.iloc[:,[2]])\n"
   ]
  },
  {
   "cell_type": "code",
   "execution_count": 146,
   "metadata": {},
   "outputs": [],
   "source": [
    "def FeaturesNormalize(x):\n",
    "    X_norm = np.zeros(x.shape);\n",
    "    mu=np.zeros(2)\n",
    "    std=np.zeros(2)\n",
    "    mu=np.mean(x,axis=0)\n",
    "    std=np.std(x,axis=0)\n",
    "    X_norm=(x-mu)/std\n",
    "    return X_norm ,mu , std\n",
    "    "
   ]
  },
  {
   "cell_type": "code",
   "execution_count": 305,
   "metadata": {},
   "outputs": [
    {
     "name": "stdout",
     "output_type": "stream",
     "text": [
      "(47, 3)\n"
     ]
    }
   ],
   "source": [
    "\n",
    "X_norm , mu , std = FeaturesNormalize(x)\n",
    "X=np.column_stack((np.ones(x.shape[0]),X_norm)) #add bias\n",
    "alpha = 0.3;\n",
    "num_iters = 50;\n",
    "theta=np.zeros((X.shape[1],1))\n",
    "print(X.shape)\n"
   ]
  },
  {
   "cell_type": "code",
   "execution_count": 297,
   "metadata": {
    "collapsed": true
   },
   "outputs": [],
   "source": [
    "def computeCost_multi(X,y,theta):\n",
    "    \n",
    "    h=np.dot(X,theta)\n",
    "    j=1/(2*m)*(np.dot(np.transpose(h-y),(h-y)))\n",
    "    return j"
   ]
  },
  {
   "cell_type": "code",
   "execution_count": 306,
   "metadata": {
    "collapsed": true
   },
   "outputs": [],
   "source": [
    "def gradientDescentMulti(X, y, theta, alpha, num_iters):\n",
    "    \n",
    "    J_history=np.zeros(num_iters)\n",
    "    num_feature=X.shape[1]\n",
    "    temp=theta ;\n",
    "    \n",
    "    for itere in range (0,num_iters):\n",
    "        h=np.dot(X,theta)\n",
    "        for  feat in  range(0,num_feature):\n",
    "            temp[feat]=theta[feat]-(alpha/m)*(np.dot(np.transpose(h-y),X[:,[feat]]))\n",
    "        theta=temp \n",
    "        \n",
    "        J_history[itere]=computeCost_multi(X,y,theta)\n",
    "    \n",
    "    \n",
    "    return theta, J_history"
   ]
  },
  {
   "cell_type": "code",
   "execution_count": 307,
   "metadata": {},
   "outputs": [
    {
     "name": "stdout",
     "output_type": "stream",
     "text": [
      "[[ 340412.65345227]\n",
      " [ 109398.90129361]\n",
      " [  -6529.45967813]]\n",
      "2043281102.61\n"
     ]
    },
    {
     "data": {
      "image/png": "[encoded data removed]",
      "text/plain": [
       "<matplotlib.figure.Figure at 0x7f98ce6587b8>"
      ]
     },
     "metadata": {},
     "output_type": "display_data"
    }
   ],
   "source": [
    "\n",
    "theta , J_history = gradientDescentMulti(X,y,theta,alpha,num_iters)\n",
    "print(theta)\n",
    "print(J_history[-1])\n",
    "plt.plot(J_history)\n",
    "plt.show()"
   ]
  },
  {
   "cell_type": "code",
   "execution_count": 316,
   "metadata": {},
   "outputs": [
    {
     "name": "stdout",
     "output_type": "stream",
     "text": [
      "[  1.80829011e+08]\n"
     ]
    }
   ],
   "source": [
    "X_test=np.array([1,1650,3])\n",
    "h=np.dot(X_test,theta)\n",
    "print(h)"
   ]
  },
  {
   "cell_type": "markdown",
   "metadata": {},
   "source": [
    "### Normal equation  \n",
    "theta=inv(X'*X)*X'*y ;"
   ]
  },
  {
   "cell_type": "code",
   "execution_count": 323,
   "metadata": {},
   "outputs": [
    {
     "name": "stdout",
     "output_type": "stream",
     "text": [
      "[[ 0.]\n",
      " [ 0.]\n",
      " [ 0.]]\n",
      "[[ 340412.65957447]\n",
      " [ 109447.79646964]\n",
      " [  -6578.35485416]]\n"
     ]
    }
   ],
   "source": [
    "theta = np.zeros((3,1))\n",
    "print(theta)\n",
    "X_trn=np.transpose(X)\n",
    "theta=((np.linalg.inv(X_trn.dot(X))).dot(X_trn)).dot(y)\n",
    "print(theta)"
   ]
  },
  {
   "cell_type": "markdown",
   "metadata": {},
   "source": [
    " 89597.909543\n",
    " 139.210674\n",
    " -8738.019112"
   ]
  }
 ],
 "metadata": {
  "kernelspec": {
   "display_name": "Python 3",
   "language": "python",
   "name": "python3"
  },
  "language_info": {
   "codemirror_mode": {
    "name": "ipython",
    "version": 3
   },
   "file_extension": ".py",
   "mimetype": "text/x-python",
   "name": "python",
   "nbconvert_exporter": "python",
   "pygments_lexer": "ipython3",
   "version": "3.5.2"
  }
 },
 "nbformat": 4,
 "nbformat_minor": 2
}
